{
  "nbformat": 4,
  "nbformat_minor": 0,
  "metadata": {
    "colab": {
      "provenance": [],
      "gpuType": "T4"
    },
    "kernelspec": {
      "name": "python3",
      "display_name": "Python 3"
    },
    "language_info": {
      "name": "python"
    },
    "accelerator": "GPU"
  },
  "cells": [
    {
      "cell_type": "code",
      "execution_count": 1,
      "metadata": {
        "id": "KeCjUDzwgSLG"
      },
      "outputs": [],
      "source": [
        "#Dependencias\n",
        "import numpy as np\n",
        "import pandas as pd\n",
        "import matplotlib.pyplot as plt\n",
        "import seaborn as sns\n",
        "import os\n",
        "from google.colab import drive\n",
        "from PIL import Image\n",
        "from keras.utils import img_to_array\n",
        "from sklearn.utils import resample\n",
        "from keras.models import Sequential\n",
        "from keras.layers import Conv2D, MaxPool2D, Flatten, Dense"
      ]
    },
    {
      "cell_type": "code",
      "source": [
        "# Conectamos a Google drive\n",
        "drive.mount('/content/drive')"
      ],
      "metadata": {
        "colab": {
          "base_uri": "https://localhost:8080/"
        },
        "id": "dmH3I5TPgbOL",
        "outputId": "0cb450fe-1e97-4289-efc2-ee90a1b8059e"
      },
      "execution_count": 2,
      "outputs": [
        {
          "output_type": "stream",
          "name": "stdout",
          "text": [
            "Mounted at /content/drive\n"
          ]
        }
      ]
    },
    {
      "cell_type": "code",
      "source": [
        "# Declaramos función para leer conjuntos de imagenes\n",
        "def get_data(data):\n",
        "  lista = []\n",
        "  for file in os.listdir(data):\n",
        "    image = Image.open(data + file).convert(\"L\") # Leemos cada imagen\n",
        "    image = image.resize((150, 150)) # Reescalamos la imagen a 150x150 pixeles\n",
        "    image = img_to_array(image) # Se convierte la imagen a array\n",
        "    lista.append(image) # Anadimos a la lista\n",
        "  return lista"
      ],
      "metadata": {
        "id": "CLKMxYHhgej3"
      },
      "execution_count": 3,
      "outputs": []
    },
    {
      "cell_type": "code",
      "source": [
        "# Cargamos los conjuntos\n",
        "train_normal   = get_data('/content/drive/My Drive/chest_xray/train/NORMAL/')\n",
        "train_neumonia = get_data('/content/drive/My Drive/chest_xray/train/PNEUMONIA/')\n",
        "test_normal    = get_data('/content/drive/My Drive/chest_xray/test/NORMAL/')\n",
        "test_neumonia  = get_data('/content/drive/My Drive/chest_xray/test/PNEUMONIA/')\n",
        "val_normal     = get_data('/content/drive/My Drive/chest_xray/val/NORMAL/')\n",
        "val_neumonia   = get_data('/content/drive/My Drive/chest_xray/val/PNEUMONIA/')"
      ],
      "metadata": {
        "id": "2I4oIW6aggKR"
      },
      "execution_count": 4,
      "outputs": []
    },
    {
      "cell_type": "code",
      "source": [
        "# Dimensionamos cada conjunto para asegurarnos de que tengan tamaños iguales\n",
        "muestra = np.random.randint(1000) # Fijamos un numero aleatorio para las muestras a visualizar para asegurarnos que esten correctas\n",
        "print(f'Las dimensiones del conjunto de entrenamiento normal son :       {train_normal[muestra].shape}')\n",
        "print(f'Las dimensiones del conjunto de entrenamiento con neumonia son : {train_neumonia[muestra].shape}')\n",
        "muestra2 = np.random.randint(200) # Fijamos un numero aleatorio para las muestras a visualizar para asegurarnos que esten correctas\n",
        "print(f'Las dimensiones del conjunto de prueba normal son :              {test_normal[muestra2].shape}')\n",
        "print(f'Las dimensiones del conjunto de prueba con neumonia son :        {test_neumonia[muestra2].shape}')\n",
        "print(f'Las dimensiones del conjunto de validación normal son :          {val_normal[0].shape}')\n",
        "print(f'Las dimensiones del conjunto de validación con neumonia son :    {val_neumonia[0].shape}')"
      ],
      "metadata": {
        "colab": {
          "base_uri": "https://localhost:8080/"
        },
        "id": "WUGIh04rgkMj",
        "outputId": "1283347c-915c-4d6f-b8c3-a92ec7d5e1e9"
      },
      "execution_count": 5,
      "outputs": [
        {
          "output_type": "stream",
          "name": "stdout",
          "text": [
            "Las dimensiones del conjunto de entrenamiento normal son :       (150, 150, 1)\n",
            "Las dimensiones del conjunto de entrenamiento con neumonia son : (150, 150, 1)\n",
            "Las dimensiones del conjunto de prueba normal son :              (150, 150, 1)\n",
            "Las dimensiones del conjunto de prueba con neumonia son :        (150, 150, 1)\n",
            "Las dimensiones del conjunto de validación normal son :          (150, 150, 1)\n",
            "Las dimensiones del conjunto de validación con neumonia son :    (150, 150, 1)\n"
          ]
        }
      ]
    },
    {
      "cell_type": "code",
      "source": [
        "# Obtenemos el balance de los conjuntos\n",
        "print(f'\\nEl conjunto de entranamiento \"normal\" ahora tiene {len(train_normal)} imagenes.')\n",
        "print(f'El conjunto de entranamiento \"neumonia\" ahora tiene {len(train_neumonia)} imagenes.')\n",
        "print(f'\\nEl conjunto de pueba \"normal\" ahora tiene {len(test_normal)} imagenes.')\n",
        "print(f'El conjunto de pueba \"neumonia\" ahora tiene {len(test_neumonia)} imagenes.')\n",
        "print(f'\\nEl conjunto de validacion \"normal\" ahora tiene {len(val_normal)} imagenes.')\n",
        "print(f'El conjunto de validacion \"neumonia\" ahora tiene {len(val_neumonia)} imagenes.')\n",
        "\n",
        "print('''\\nLa muestra tiene un imbalance. Para resolverlo limitaremos el número \n",
        "de observaciones de \"neumonia\" para evitar un sesgo en el modelo''') # La muestra tiene un imbalance...\n",
        "\n",
        "# Elaboramos un muestreo aleatorio para igualar el tamaño de 'neumonia' al de 'normal'\n",
        "train_neumonia = resample(train_neumonia, n_samples=len(train_normal), random_state=10)\n",
        "test_neumonia = resample(train_neumonia, n_samples=len(test_normal), random_state=10)\n",
        "\n",
        "print(f'\\nEl conjunto de entranamiento \"normal\" ahora tiene {len(train_normal)} imagenes.')\n",
        "print(f'El conjunto de entranamiento \"neumonia\" ahora tiene {len(train_neumonia)} imagenes.')\n",
        "print(f'\\nEl conjunto de pueba \"normal\" ahora tiene {len(test_normal)} imagenes.')\n",
        "print(f'El conjunto de pueba \"neumonia\" ahora tiene {len(test_neumonia)} imagenes.')\n",
        "print(f'\\nEl conjunto de validacion \"normal\" ahora tiene {len(val_normal)} imagenes.')\n",
        "print(f'El conjunto de validacion \"neumonia\" ahora tiene {len(val_neumonia)} imagenes.')"
      ],
      "metadata": {
        "colab": {
          "base_uri": "https://localhost:8080/"
        },
        "id": "JWbvsSjrgmof",
        "outputId": "370221fa-4be3-4193-b322-8c02cd62f7e0"
      },
      "execution_count": 6,
      "outputs": [
        {
          "output_type": "stream",
          "name": "stdout",
          "text": [
            "\n",
            "El conjunto de entranamiento \"normal\" ahora tiene 1341 imagenes.\n",
            "El conjunto de entranamiento \"neumonia\" ahora tiene 3881 imagenes.\n",
            "\n",
            "El conjunto de pueba \"normal\" ahora tiene 234 imagenes.\n",
            "El conjunto de pueba \"neumonia\" ahora tiene 390 imagenes.\n",
            "\n",
            "El conjunto de validacion \"normal\" ahora tiene 8 imagenes.\n",
            "El conjunto de validacion \"neumonia\" ahora tiene 8 imagenes.\n",
            "\n",
            "La muestra tiene un imbalance. Para resolverlo limitaremos el número \n",
            "de observaciones de \"neumonia\" para evitar un sesgo en el modelo\n",
            "\n",
            "El conjunto de entranamiento \"normal\" ahora tiene 1341 imagenes.\n",
            "El conjunto de entranamiento \"neumonia\" ahora tiene 1341 imagenes.\n",
            "\n",
            "El conjunto de pueba \"normal\" ahora tiene 234 imagenes.\n",
            "El conjunto de pueba \"neumonia\" ahora tiene 234 imagenes.\n",
            "\n",
            "El conjunto de validacion \"normal\" ahora tiene 8 imagenes.\n",
            "El conjunto de validacion \"neumonia\" ahora tiene 8 imagenes.\n"
          ]
        }
      ]
    },
    {
      "cell_type": "code",
      "source": [
        "# Unimos las listas balanceadas\n",
        "X_train = np.concatenate((train_normal, train_neumonia), axis=0)\n",
        "X_test = np.concatenate((test_normal, test_neumonia), axis=0)\n",
        "X_val = np.concatenate((val_normal, val_neumonia), axis=0)\n",
        "\n",
        "# Preparamos nuestras variables objetivo\n",
        "y_train = np.concatenate((np.zeros(len(train_normal)), np.ones(len(train_neumonia))), axis=0)\n",
        "y_test = np.concatenate((np.zeros(len(test_normal)), np.ones(len(test_neumonia))), axis=0)\n",
        "y_val = np.concatenate((np.zeros(len(val_normal)), np.ones(len(val_neumonia))), axis=0)\n",
        "\n",
        "# Obtenemos el numero total de observaciones por conjunto\n",
        "obser_train = len(X_train)\n",
        "obser_test = len(X_test)\n",
        "obser_val = len(X_val)\n",
        "\n",
        "print(f'El conjunto de entrenamiento ahora tiene {obser_train} imagenes.')\n",
        "print(f'El conjunto de pueba ahora tiene {obser_test} imagenes.')\n",
        "print(f'El conjunto de validacion ahora tiene {obser_val} imagenes.')"
      ],
      "metadata": {
        "colab": {
          "base_uri": "https://localhost:8080/"
        },
        "id": "fMXEoE-RgqJ0",
        "outputId": "d0fa2ffd-718c-49f3-d560-de0b31ec7caa"
      },
      "execution_count": 7,
      "outputs": [
        {
          "output_type": "stream",
          "name": "stdout",
          "text": [
            "El conjunto de entrenamiento ahora tiene 2682 imagenes.\n",
            "El conjunto de pueba ahora tiene 468 imagenes.\n",
            "El conjunto de validacion ahora tiene 16 imagenes.\n"
          ]
        }
      ]
    },
    {
      "cell_type": "code",
      "source": [
        "# Normalizamos los conjuntos\n",
        "X_train = X_train / 255.0 \n",
        "X_test = X_test / 255.0 \n",
        "X_val = X_val / 255.0 \n",
        "\n",
        "# Configuración de parámetros para el preprocesamiento de imágenes\n",
        "batch_size = 32\n",
        "image_shape = X_train[0].shape\n",
        "epochs = 10\n",
        "\n",
        "# Construir el modelo de red neuronal convolucional\n",
        "model = Sequential([\n",
        "    Conv2D(64, (5, 5), activation='relu', input_shape=image_shape),\n",
        "    MaxPool2D((2, 2)),\n",
        "    Conv2D(128, (5, 5), activation='relu'),\n",
        "    MaxPool2D((2, 2)),\n",
        "    Conv2D(1356, (5, 5), activation='relu'),\n",
        "    MaxPool2D((2, 2)),\n",
        "    Flatten(),\n",
        "    Dense(128, activation='relu'),\n",
        "    Dense(1, activation='sigmoid')\n",
        "])\n",
        "\n",
        "# Compilamos el modelo\n",
        "model.compile(optimizer='adam',\n",
        "              loss='binary_crossentropy',\n",
        "              metrics=['accuracy'])\n",
        "\n",
        "# Resumen del modelo\n",
        "print(model.summary())"
      ],
      "metadata": {
        "colab": {
          "base_uri": "https://localhost:8080/"
        },
        "id": "hCxQSSa4grEJ",
        "outputId": "a4035771-b11f-4ede-a545-f011bec3fdc3"
      },
      "execution_count": 8,
      "outputs": [
        {
          "output_type": "stream",
          "name": "stdout",
          "text": [
            "Model: \"sequential\"\n",
            "_________________________________________________________________\n",
            " Layer (type)                Output Shape              Param #   \n",
            "=================================================================\n",
            " conv2d (Conv2D)             (None, 146, 146, 64)      1664      \n",
            "                                                                 \n",
            " max_pooling2d (MaxPooling2D  (None, 73, 73, 64)       0         \n",
            " )                                                               \n",
            "                                                                 \n",
            " conv2d_1 (Conv2D)           (None, 69, 69, 128)       204928    \n",
            "                                                                 \n",
            " max_pooling2d_1 (MaxPooling  (None, 34, 34, 128)      0         \n",
            " 2D)                                                             \n",
            "                                                                 \n",
            " conv2d_2 (Conv2D)           (None, 30, 30, 1356)      4340556   \n",
            "                                                                 \n",
            " max_pooling2d_2 (MaxPooling  (None, 15, 15, 1356)     0         \n",
            " 2D)                                                             \n",
            "                                                                 \n",
            " flatten (Flatten)           (None, 305100)            0         \n",
            "                                                                 \n",
            " dense (Dense)               (None, 128)               39052928  \n",
            "                                                                 \n",
            " dense_1 (Dense)             (None, 1)                 129       \n",
            "                                                                 \n",
            "=================================================================\n",
            "Total params: 43,600,205\n",
            "Trainable params: 43,600,205\n",
            "Non-trainable params: 0\n",
            "_________________________________________________________________\n",
            "None\n"
          ]
        }
      ]
    },
    {
      "cell_type": "code",
      "source": [
        "# Entrenamos el modelo\n",
        "history = model.fit(X_train, y_train, batch_size=batch_size,\n",
        "                    epochs=epochs,\n",
        "                    validation_data=(X_val, y_val))"
      ],
      "metadata": {
        "colab": {
          "base_uri": "https://localhost:8080/"
        },
        "id": "0aGdtzlzgq_W",
        "outputId": "8ca8f116-f6bc-402a-a0f3-cbb9395f7d52"
      },
      "execution_count": 9,
      "outputs": [
        {
          "output_type": "stream",
          "name": "stdout",
          "text": [
            "Epoch 1/10\n",
            "84/84 [==============================] - 30s 170ms/step - loss: 0.8499 - accuracy: 0.6435 - val_loss: 0.4265 - val_accuracy: 0.7500\n",
            "Epoch 2/10\n",
            "84/84 [==============================] - 9s 106ms/step - loss: 0.2192 - accuracy: 0.9165 - val_loss: 0.3300 - val_accuracy: 0.8750\n",
            "Epoch 3/10\n",
            "84/84 [==============================] - 9s 108ms/step - loss: 0.1250 - accuracy: 0.9560 - val_loss: 0.3066 - val_accuracy: 0.9375\n",
            "Epoch 4/10\n",
            "84/84 [==============================] - 9s 108ms/step - loss: 0.1147 - accuracy: 0.9571 - val_loss: 0.3304 - val_accuracy: 0.8125\n",
            "Epoch 5/10\n",
            "84/84 [==============================] - 9s 107ms/step - loss: 0.1001 - accuracy: 0.9616 - val_loss: 0.1678 - val_accuracy: 0.9375\n",
            "Epoch 6/10\n",
            "84/84 [==============================] - 9s 109ms/step - loss: 0.0960 - accuracy: 0.9638 - val_loss: 0.1604 - val_accuracy: 1.0000\n",
            "Epoch 7/10\n",
            "84/84 [==============================] - 9s 110ms/step - loss: 0.0756 - accuracy: 0.9739 - val_loss: 0.1882 - val_accuracy: 0.9375\n",
            "Epoch 8/10\n",
            "84/84 [==============================] - 9s 110ms/step - loss: 0.0535 - accuracy: 0.9791 - val_loss: 0.0344 - val_accuracy: 1.0000\n",
            "Epoch 9/10\n",
            "84/84 [==============================] - 9s 112ms/step - loss: 0.0453 - accuracy: 0.9832 - val_loss: 0.1174 - val_accuracy: 0.9375\n",
            "Epoch 10/10\n",
            "84/84 [==============================] - 10s 114ms/step - loss: 0.0338 - accuracy: 0.9862 - val_loss: 0.0370 - val_accuracy: 1.0000\n"
          ]
        }
      ]
    },
    {
      "cell_type": "code",
      "source": [
        "# Evaluamos del modelo en el conjunto de prueba\n",
        "test_loss, test_accuracy = model.evaluate(X_test, y_test)\n",
        "print(\"Test Loss:\", test_loss)\n",
        "print(\"Test Accuracy:\", test_accuracy)"
      ],
      "metadata": {
        "colab": {
          "base_uri": "https://localhost:8080/"
        },
        "id": "558Hfw6ggq6M",
        "outputId": "2312f658-2a80-4ef1-ec84-f72b71d58095"
      },
      "execution_count": 10,
      "outputs": [
        {
          "output_type": "stream",
          "name": "stdout",
          "text": [
            "15/15 [==============================] - 2s 115ms/step - loss: 1.1440 - accuracy: 0.7521\n",
            "Test Loss: 1.1439883708953857\n",
            "Test Accuracy: 0.752136766910553\n"
          ]
        }
      ]
    },
    {
      "cell_type": "code",
      "source": [
        "# Graficamos loss y accuracy durante el entrenamiento y la validación\n",
        "sns.set_style(\"darkgrid\")\n",
        "plt.figure(figsize=(12, 6))\n",
        "plt.plot(history.history['loss'], label='train_loss', color='#01405C')\n",
        "plt.plot(history.history['val_loss'], label='val_loss', color='#BB5091')\n",
        "plt.plot(history.history['accuracy'], label='train_acc', color='#FF6565')\n",
        "plt.plot(history.history['val_accuracy'], label='val_acc', color='#FEA703')\n",
        "plt.title('Comportamiento durante entrenamiento')\n",
        "plt.xlabel('Epoch')\n",
        "plt.ylabel('Loss / Accuracy')\n",
        "plt.legend()\n",
        "plt.show()"
      ],
      "metadata": {
        "colab": {
          "base_uri": "https://localhost:8080/",
          "height": 564
        },
        "id": "Ynn6a7YomEUZ",
        "outputId": "25b243af-0a01-4517-f7d6-f8dbb370aa1b"
      },
      "execution_count": 11,
      "outputs": [
        {
          "output_type": "display_data",
          "data": {
            "text/plain": [
              "<Figure size 1200x600 with 1 Axes>"
            ],
            "image/png": "[encoded data removed]"
          },
          "metadata": {}
        }
      ]
    },
    {
      "cell_type": "code",
      "source": [
        "# Guardamos el modelo\n",
        "model.save('pneumonia_trained_fitted.h5')"
      ],
      "metadata": {
        "id": "e2tPRC0YmEQz"
      },
      "execution_count": 12,
      "outputs": []
    },
    {
      "cell_type": "code",
      "source": [
        "# Cargamos el modelo guardado\n",
        "#model = load_model('pneumonia_trained.h5')\n",
        "\n",
        "################################ Imagen Normal ################################\n",
        "# Leemos la imagen en balance de grises\n",
        "image1 = Image.open('01.jpeg').convert(\"L\")\n",
        "\n",
        "# Preparamos la imagen\n",
        "image1 = image1.resize((150, 150))  # Ajustar al tamaño esperado por el modelo\n",
        "image1 = img_to_array(image1)  # Convertir la imagen a array\n",
        "image1 = image1 / 255.0  # Normalizar la imagen\n",
        "image1 = np.expand_dims(image1, axis=0)  # Agregar una dimensión adicional\n",
        "\n",
        "# Obtenemos la predicción del modelo\n",
        "prediccion_img_normal = model.predict(image1)\n",
        "probabilidad = prediccion_img_normal[0][0] * 100\n",
        "prediccion_img_normal = np.round(prediccion_img_normal).item()\n",
        "                                                                                    \n",
        "# Mostramos la predicción (0 para imagen normal, 1 para imagen con neumonia)\n",
        "print('\\nEn esta consulta se cargará una imagen normal')\n",
        "diagnóstico = 'normal' if prediccion_img_normal == 0 else 'neumonía'\n",
        "print(f'El diagnóstico es {diagnóstico}\\n')\n",
        "print(f'El porsentaje de efectividad es: {probabilidad}\\n')\n",
        "\n",
        "\n",
        "############################### Imagen Neumonia ################################\n",
        "# Leemos la imagen en balance de grises\n",
        "image2 = Image.open('02.jpeg').convert(\"L\")\n",
        "\n",
        "# Preparamos la imagen\n",
        "image2 = image2.resize((150, 150))  # Ajustar al tamaño esperado por el modelo\n",
        "image2 = img_to_array(image2)  # Convertir la imagen a array\n",
        "image2 = image2 / 255.0  # Normalizar la imagen\n",
        "image2 = np.expand_dims(image2, axis=0)  # Agregar una dimensión adicional\n",
        "\n",
        "# Obtenemos la predicción del modelo\n",
        "prediccion_img_neu = model.predict(image2)\n",
        "probabilidad = prediccion_img_neu[0][0] * 100\n",
        "prediccion_img_neu = np.round(prediccion_img_neu).item()\n",
        "\n",
        "# Mostramos la predicción (0 para imagen normal, 1 para imagen con neumonia)\n",
        "print('\\nEn esta consulta se cargará una imagen con neumonía')\n",
        "diagnóstico = 'normal' if prediccion_img_neu == 0 else 'neumonía'\n",
        "print(f'El diagnóstico es {diagnóstico}')\n",
        "print(f'El porsentaje de efectividad es: {probabilidad}\\n')"
      ],
      "metadata": {
        "colab": {
          "base_uri": "https://localhost:8080/"
        },
        "id": "4sgxS04Bgqze",
        "outputId": "528eb94d-c674-4e16-b476-ad515f4f7e65"
      },
      "execution_count": 14,
      "outputs": [
        {
          "output_type": "stream",
          "name": "stdout",
          "text": [
            "1/1 [==============================] - 0s 346ms/step\n",
            "\n",
            "En esta consulta se cargará una imagen normal\n",
            "El diagnóstico es normal\n",
            "\n",
            "El porsentaje de efectividad es: 2.6604410260915756\n",
            "\n",
            "1/1 [==============================] - 0s 28ms/step\n",
            "\n",
            "En esta consulta se cargará una imagen con neumonía\n",
            "El diagnóstico es neumonía\n",
            "El porsentaje de efectividad es: 99.19924736022949\n",
            "\n"
          ]
        }
      ]
    },
    {
      "cell_type": "code",
      "source": [],
      "metadata": {
        "id": "R_Tv4Z-Qgqrj"
      },
      "execution_count": 10,
      "outputs": []
    }
  ]
}